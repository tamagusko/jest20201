{
 "cells": [
  {
   "cell_type": "markdown",
   "metadata": {},
   "source": [
    "# Leukemia detection  Challenge (under development)\n",
    "The objective of this challenge is to classify patients between leukemia or not.\n",
    "## Basic info\n",
    "© Tiago Tamagusko (tamagusko@gmail.com)  \n",
    "Version: [CHANGELOG.md](/CHANGELOG.md)  \n",
    "Project Page: <a href=\"https://github.com/tamagusko/jest20201\">https://github.com/tamagusko/jest20201</a>  \n",
    "License: [LICENSE](/LICENSE)\n",
    "\n",
    "## Study Structure\n",
    "1. Problem definition; \n",
    "2. Data collection (provided by [1]);\n",
    "3. Data preparation;\n",
    "4. Algorithms;\n",
    "5. Improvements;\n",
    "6. Results.\n",
    "\n",
    "## Project data structure:\n",
    "    \n",
    "    ├── LeukemiaDetect.ipynb             # Python code\n",
    "    ├── CHANGELOG.md                     # Project change log\n",
    "    ├── LICENSE.md                       # License\n",
    "    ├── README.md                        # Home\n",
    "    ├── requirements.txt                 # Project requirements\n",
    "    ├── data                             # Data (raw and processed)\n",
    "    ├── reports                          # Outputs"
   ]
  },
  {
   "cell_type": "markdown",
   "metadata": {},
   "source": [
    "## Future developments\n",
    "- Use the k-fold and train a sample with all 128 sample data (I used 50/50);\n",
    "- Test implementations with SVM, Kmeans;\n",
    "- Study data balancing techniques."
   ]
  },
  {
   "cell_type": "markdown",
   "metadata": {},
   "source": [
    "## 1. Problem\n",
    "Classify a group of patients as having leukemia (1) and without leukemia (0).\n",
    "### 1.1 Proposal\n",
    "Test various Machine Learning (ML) algorithms to try to predict leukemia patients. The dataset is provided with indicators taken from blood tests.\n",
    "## 2. Data collection\n",
    "The data was collected and prepared by José Rodrigues [1].\n",
    "### 2.1 Dataset - [Leukemya_data.csv](https://raw.githubusercontent.com/spingegod/ProjetoTI_part2/master/Leukemya_data.csv) [1]\n",
    "- 178 patients; *Note: 128 train, 50 test/predict*\n",
    "- 186 features. *Note: reduce*\n",
    "\n",
    "### 2.2 Labels -  [labels.csv](https://raw.githubusercontent.com/spingegod/ProjetoTI_part2/master/labels.csv) [1]\n",
    "- labels of the first 128 patients;\n",
    "- label 1: Without leukemia. *Note: Changed to 0*\n",
    "- label 2: With leukemia; *Note: Changed to 1*\n"
   ]
  },
  {
   "cell_type": "markdown",
   "metadata": {},
   "source": [
    "# 3. Data Preparation"
   ]
  },
  {
   "cell_type": "code",
   "execution_count": 1,
   "metadata": {
    "ExecuteTime": {
     "start_time": "2019-12-29T11:52:34.518Z"
    }
   },
   "outputs": [],
   "source": [
    "# Import needed libraries\n",
    "import pandas as pd\n",
    "import numpy as np\n",
    "import datetime as dt\n",
    "import warnings\n",
    "import matplotlib.pyplot as plt\n",
    "%matplotlib inline\n",
    "warnings.simplefilter(action='ignore')\n",
    "\n",
    "TODAY = dt.datetime.now().strftime('%y%m%d')\n",
    "\n",
    "# import Machine Learning Algorithms\n",
    "# from sklearn.tree import DecisionTreeClassifier, plot_tree"
   ]
  },
  {
   "cell_type": "markdown",
   "metadata": {},
   "source": [
    "## 3.1 Download datasets"
   ]
  },
  {
   "cell_type": "code",
   "execution_count": 2,
   "metadata": {
    "ExecuteTime": {
     "start_time": "2019-12-29T11:50:20.384Z"
    }
   },
   "outputs": [],
   "source": [
    "# Reading dataset developed by [1]\n",
    "\n",
    "urlBase = 'https://raw.githubusercontent.com/spingegod/ProjetoTI_part2/master/Leukemya_data.csv'\n",
    "urlLabels = 'https://raw.githubusercontent.com/spingegod/ProjetoTI_part2/master/labels.csv'\n",
    "\n",
    "\n",
    "def getData(url):\n",
    "    # only works with csv files (without head)\n",
    "    df = pd.read_csv(url, header=None)\n",
    "    return df\n",
    "\n",
    "\n",
    "def saveData(df, folder='', name='temp'):\n",
    "    # only works with csv files (add format parameter if necessary)\n",
    "    # you can enter the entire path to the folder\n",
    "    if folder == 'raw':\n",
    "        folder = 'data/raw/'\n",
    "    elif folder == 'processed':\n",
    "        folder = 'data/processed/'\n",
    "    elif folder == 'results':\n",
    "        folder = 'results/'\n",
    "    return df.to_csv(folder + str(TODAY) + '_' + name + '.csv')\n",
    "\n",
    "\n",
    "data = getData(urlBase)\n",
    "labels = getData(urlLabels)\n",
    "\n",
    "# save raw data\n",
    "saveData(data, 'raw', 'Leukemya_data')\n",
    "saveData(labels, 'raw', 'labels')\n",
    "\n",
    "# changing the labels to 0 and 1\n",
    "labels = labels.add(-1)\n",
    "\n",
    "# save processed data\n",
    "saveData(labels, 'processed', 'labels')"
   ]
  },
  {
   "cell_type": "markdown",
   "metadata": {},
   "source": [
    "## 3.2 Quick Data visualization"
   ]
  },
  {
   "cell_type": "code",
   "execution_count": 3,
   "metadata": {
    "scrolled": true
   },
   "outputs": [
    {
     "data": {
      "text/plain": [
       "(178, 186)"
      ]
     },
     "execution_count": 3,
     "metadata": {},
     "output_type": "execute_result"
    }
   ],
   "source": [
    "# data\n",
    "data.shape"
   ]
  },
  {
   "cell_type": "code",
   "execution_count": 4,
   "metadata": {
    "ExecuteTime": {
     "start_time": "2019-12-29T11:50:20.389Z"
    },
    "scrolled": true,
    "slideshow": {
     "slide_type": "-"
    }
   },
   "outputs": [
    {
     "data": {
      "text/html": [
       "<div>\n",
       "<style scoped>\n",
       "    .dataframe tbody tr th:only-of-type {\n",
       "        vertical-align: middle;\n",
       "    }\n",
       "\n",
       "    .dataframe tbody tr th {\n",
       "        vertical-align: top;\n",
       "    }\n",
       "\n",
       "    .dataframe thead th {\n",
       "        text-align: right;\n",
       "    }\n",
       "</style>\n",
       "<table border=\"1\" class=\"dataframe\">\n",
       "  <thead>\n",
       "    <tr style=\"text-align: right;\">\n",
       "      <th></th>\n",
       "      <th>0</th>\n",
       "      <th>1</th>\n",
       "      <th>2</th>\n",
       "      <th>3</th>\n",
       "      <th>4</th>\n",
       "      <th>5</th>\n",
       "      <th>6</th>\n",
       "      <th>7</th>\n",
       "      <th>8</th>\n",
       "      <th>9</th>\n",
       "      <th>...</th>\n",
       "      <th>176</th>\n",
       "      <th>177</th>\n",
       "      <th>178</th>\n",
       "      <th>179</th>\n",
       "      <th>180</th>\n",
       "      <th>181</th>\n",
       "      <th>182</th>\n",
       "      <th>183</th>\n",
       "      <th>184</th>\n",
       "      <th>185</th>\n",
       "    </tr>\n",
       "  </thead>\n",
       "  <tbody>\n",
       "    <tr>\n",
       "      <th>0</th>\n",
       "      <td>0.64807</td>\n",
       "      <td>0.16853</td>\n",
       "      <td>-0.94017</td>\n",
       "      <td>0.57049</td>\n",
       "      <td>0.68297</td>\n",
       "      <td>0.17221</td>\n",
       "      <td>0.58435</td>\n",
       "      <td>0.071430</td>\n",
       "      <td>-1.440000</td>\n",
       "      <td>1.3522</td>\n",
       "      <td>...</td>\n",
       "      <td>1.01970</td>\n",
       "      <td>2.25020</td>\n",
       "      <td>0.27855</td>\n",
       "      <td>0.072376</td>\n",
       "      <td>0.23319</td>\n",
       "      <td>0.111960</td>\n",
       "      <td>1.1186</td>\n",
       "      <td>-0.22746</td>\n",
       "      <td>0.17707</td>\n",
       "      <td>0.161520</td>\n",
       "    </tr>\n",
       "    <tr>\n",
       "      <th>1</th>\n",
       "      <td>0.45781</td>\n",
       "      <td>0.24661</td>\n",
       "      <td>0.46806</td>\n",
       "      <td>-1.14030</td>\n",
       "      <td>0.35616</td>\n",
       "      <td>0.42955</td>\n",
       "      <td>0.51808</td>\n",
       "      <td>0.105430</td>\n",
       "      <td>0.019104</td>\n",
       "      <td>-1.4821</td>\n",
       "      <td>...</td>\n",
       "      <td>0.51232</td>\n",
       "      <td>0.36102</td>\n",
       "      <td>0.32950</td>\n",
       "      <td>0.219020</td>\n",
       "      <td>0.17505</td>\n",
       "      <td>0.054870</td>\n",
       "      <td>2.9294</td>\n",
       "      <td>10.62900</td>\n",
       "      <td>0.15601</td>\n",
       "      <td>0.046731</td>\n",
       "    </tr>\n",
       "    <tr>\n",
       "      <th>2</th>\n",
       "      <td>0.69736</td>\n",
       "      <td>0.19996</td>\n",
       "      <td>-0.98561</td>\n",
       "      <td>0.42796</td>\n",
       "      <td>0.73483</td>\n",
       "      <td>0.21918</td>\n",
       "      <td>0.55297</td>\n",
       "      <td>0.065897</td>\n",
       "      <td>-1.453600</td>\n",
       "      <td>1.6378</td>\n",
       "      <td>...</td>\n",
       "      <td>1.13520</td>\n",
       "      <td>2.00690</td>\n",
       "      <td>0.28918</td>\n",
       "      <td>0.095388</td>\n",
       "      <td>0.17238</td>\n",
       "      <td>0.053383</td>\n",
       "      <td>2.4876</td>\n",
       "      <td>6.08990</td>\n",
       "      <td>0.15226</td>\n",
       "      <td>0.033556</td>\n",
       "    </tr>\n",
       "  </tbody>\n",
       "</table>\n",
       "<p>3 rows × 186 columns</p>\n",
       "</div>"
      ],
      "text/plain": [
       "       0        1        2        3        4        5        6         7    \\\n",
       "0  0.64807  0.16853 -0.94017  0.57049  0.68297  0.17221  0.58435  0.071430   \n",
       "1  0.45781  0.24661  0.46806 -1.14030  0.35616  0.42955  0.51808  0.105430   \n",
       "2  0.69736  0.19996 -0.98561  0.42796  0.73483  0.21918  0.55297  0.065897   \n",
       "\n",
       "        8       9    ...      176      177      178       179      180  \\\n",
       "0 -1.440000  1.3522  ...  1.01970  2.25020  0.27855  0.072376  0.23319   \n",
       "1  0.019104 -1.4821  ...  0.51232  0.36102  0.32950  0.219020  0.17505   \n",
       "2 -1.453600  1.6378  ...  1.13520  2.00690  0.28918  0.095388  0.17238   \n",
       "\n",
       "        181     182       183      184       185  \n",
       "0  0.111960  1.1186  -0.22746  0.17707  0.161520  \n",
       "1  0.054870  2.9294  10.62900  0.15601  0.046731  \n",
       "2  0.053383  2.4876   6.08990  0.15226  0.033556  \n",
       "\n",
       "[3 rows x 186 columns]"
      ]
     },
     "execution_count": 4,
     "metadata": {},
     "output_type": "execute_result"
    }
   ],
   "source": [
    "data.head(3)"
   ]
  },
  {
   "cell_type": "code",
   "execution_count": 5,
   "metadata": {},
   "outputs": [
    {
     "data": {
      "text/plain": [
       "0      False\n",
       "1      False\n",
       "2      False\n",
       "3      False\n",
       "4      False\n",
       "       ...  \n",
       "181    False\n",
       "182    False\n",
       "183    False\n",
       "184    False\n",
       "185    False\n",
       "Length: 186, dtype: bool"
      ]
     },
     "execution_count": 5,
     "metadata": {},
     "output_type": "execute_result"
    }
   ],
   "source": [
    "data.isna().any()"
   ]
  },
  {
   "cell_type": "code",
   "execution_count": 6,
   "metadata": {},
   "outputs": [
    {
     "data": {
      "text/html": [
       "<div>\n",
       "<style scoped>\n",
       "    .dataframe tbody tr th:only-of-type {\n",
       "        vertical-align: middle;\n",
       "    }\n",
       "\n",
       "    .dataframe tbody tr th {\n",
       "        vertical-align: top;\n",
       "    }\n",
       "\n",
       "    .dataframe thead th {\n",
       "        text-align: right;\n",
       "    }\n",
       "</style>\n",
       "<table border=\"1\" class=\"dataframe\">\n",
       "  <thead>\n",
       "    <tr style=\"text-align: right;\">\n",
       "      <th></th>\n",
       "      <th>0</th>\n",
       "      <th>1</th>\n",
       "      <th>2</th>\n",
       "      <th>3</th>\n",
       "      <th>4</th>\n",
       "      <th>5</th>\n",
       "      <th>6</th>\n",
       "      <th>7</th>\n",
       "      <th>8</th>\n",
       "      <th>9</th>\n",
       "      <th>...</th>\n",
       "      <th>176</th>\n",
       "      <th>177</th>\n",
       "      <th>178</th>\n",
       "      <th>179</th>\n",
       "      <th>180</th>\n",
       "      <th>181</th>\n",
       "      <th>182</th>\n",
       "      <th>183</th>\n",
       "      <th>184</th>\n",
       "      <th>185</th>\n",
       "    </tr>\n",
       "  </thead>\n",
       "  <tbody>\n",
       "    <tr>\n",
       "      <th>count</th>\n",
       "      <td>178.000000</td>\n",
       "      <td>178.000000</td>\n",
       "      <td>178.000000</td>\n",
       "      <td>178.000000</td>\n",
       "      <td>178.000000</td>\n",
       "      <td>178.000000</td>\n",
       "      <td>178.000000</td>\n",
       "      <td>178.000000</td>\n",
       "      <td>178.000000</td>\n",
       "      <td>178.000000</td>\n",
       "      <td>...</td>\n",
       "      <td>178.000000</td>\n",
       "      <td>178.000000</td>\n",
       "      <td>178.000000</td>\n",
       "      <td>178.000000</td>\n",
       "      <td>178.000000</td>\n",
       "      <td>178.000000</td>\n",
       "      <td>178.000000</td>\n",
       "      <td>178.000000</td>\n",
       "      <td>178.000000</td>\n",
       "      <td>178.000000</td>\n",
       "    </tr>\n",
       "    <tr>\n",
       "      <th>mean</th>\n",
       "      <td>0.600470</td>\n",
       "      <td>0.201485</td>\n",
       "      <td>-0.344933</td>\n",
       "      <td>-0.286808</td>\n",
       "      <td>0.632020</td>\n",
       "      <td>0.287540</td>\n",
       "      <td>0.552424</td>\n",
       "      <td>0.082189</td>\n",
       "      <td>-0.824703</td>\n",
       "      <td>0.236309</td>\n",
       "      <td>...</td>\n",
       "      <td>0.472684</td>\n",
       "      <td>1.045795</td>\n",
       "      <td>0.333589</td>\n",
       "      <td>0.129445</td>\n",
       "      <td>0.226955</td>\n",
       "      <td>0.102015</td>\n",
       "      <td>1.492289</td>\n",
       "      <td>3.210325</td>\n",
       "      <td>0.185576</td>\n",
       "      <td>0.133609</td>\n",
       "    </tr>\n",
       "    <tr>\n",
       "      <th>std</th>\n",
       "      <td>0.073394</td>\n",
       "      <td>0.031226</td>\n",
       "      <td>0.584300</td>\n",
       "      <td>1.051375</td>\n",
       "      <td>0.100155</td>\n",
       "      <td>0.091728</td>\n",
       "      <td>0.036221</td>\n",
       "      <td>0.014602</td>\n",
       "      <td>0.660501</td>\n",
       "      <td>1.375195</td>\n",
       "      <td>...</td>\n",
       "      <td>0.609301</td>\n",
       "      <td>1.238343</td>\n",
       "      <td>0.066511</td>\n",
       "      <td>0.043993</td>\n",
       "      <td>0.037857</td>\n",
       "      <td>0.029705</td>\n",
       "      <td>1.080864</td>\n",
       "      <td>8.949080</td>\n",
       "      <td>0.042548</td>\n",
       "      <td>0.080806</td>\n",
       "    </tr>\n",
       "    <tr>\n",
       "      <th>min</th>\n",
       "      <td>0.376770</td>\n",
       "      <td>0.102720</td>\n",
       "      <td>-1.299800</td>\n",
       "      <td>-1.557600</td>\n",
       "      <td>0.338550</td>\n",
       "      <td>0.088063</td>\n",
       "      <td>0.424760</td>\n",
       "      <td>0.029278</td>\n",
       "      <td>-2.185700</td>\n",
       "      <td>-1.617800</td>\n",
       "      <td>...</td>\n",
       "      <td>-1.979500</td>\n",
       "      <td>-1.331900</td>\n",
       "      <td>0.171240</td>\n",
       "      <td>0.059657</td>\n",
       "      <td>0.149200</td>\n",
       "      <td>0.015450</td>\n",
       "      <td>-0.298160</td>\n",
       "      <td>-1.734000</td>\n",
       "      <td>0.140280</td>\n",
       "      <td>0.000000</td>\n",
       "    </tr>\n",
       "    <tr>\n",
       "      <th>25%</th>\n",
       "      <td>0.555767</td>\n",
       "      <td>0.189550</td>\n",
       "      <td>-0.758522</td>\n",
       "      <td>-0.961957</td>\n",
       "      <td>0.584640</td>\n",
       "      <td>0.219670</td>\n",
       "      <td>0.537710</td>\n",
       "      <td>0.075842</td>\n",
       "      <td>-1.261125</td>\n",
       "      <td>-0.724020</td>\n",
       "      <td>...</td>\n",
       "      <td>0.134622</td>\n",
       "      <td>0.280898</td>\n",
       "      <td>0.297960</td>\n",
       "      <td>0.099101</td>\n",
       "      <td>0.206740</td>\n",
       "      <td>0.090722</td>\n",
       "      <td>0.840605</td>\n",
       "      <td>-0.801597</td>\n",
       "      <td>0.163120</td>\n",
       "      <td>0.065188</td>\n",
       "    </tr>\n",
       "    <tr>\n",
       "      <th>50%</th>\n",
       "      <td>0.611900</td>\n",
       "      <td>0.204290</td>\n",
       "      <td>-0.479840</td>\n",
       "      <td>-0.466060</td>\n",
       "      <td>0.657045</td>\n",
       "      <td>0.275930</td>\n",
       "      <td>0.561140</td>\n",
       "      <td>0.084887</td>\n",
       "      <td>-0.907755</td>\n",
       "      <td>-0.136530</td>\n",
       "      <td>...</td>\n",
       "      <td>0.538395</td>\n",
       "      <td>0.805355</td>\n",
       "      <td>0.328025</td>\n",
       "      <td>0.119270</td>\n",
       "      <td>0.223460</td>\n",
       "      <td>0.107370</td>\n",
       "      <td>1.384650</td>\n",
       "      <td>0.597150</td>\n",
       "      <td>0.174630</td>\n",
       "      <td>0.110250</td>\n",
       "    </tr>\n",
       "    <tr>\n",
       "      <th>75%</th>\n",
       "      <td>0.652925</td>\n",
       "      <td>0.219668</td>\n",
       "      <td>-0.057454</td>\n",
       "      <td>-0.056106</td>\n",
       "      <td>0.705235</td>\n",
       "      <td>0.353475</td>\n",
       "      <td>0.576998</td>\n",
       "      <td>0.090970</td>\n",
       "      <td>-0.515713</td>\n",
       "      <td>0.879875</td>\n",
       "      <td>...</td>\n",
       "      <td>0.816458</td>\n",
       "      <td>1.562375</td>\n",
       "      <td>0.368625</td>\n",
       "      <td>0.150257</td>\n",
       "      <td>0.249032</td>\n",
       "      <td>0.121952</td>\n",
       "      <td>1.750450</td>\n",
       "      <td>2.135200</td>\n",
       "      <td>0.185935</td>\n",
       "      <td>0.203223</td>\n",
       "    </tr>\n",
       "    <tr>\n",
       "      <th>max</th>\n",
       "      <td>0.725140</td>\n",
       "      <td>0.277860</td>\n",
       "      <td>1.878300</td>\n",
       "      <td>5.181600</td>\n",
       "      <td>0.801370</td>\n",
       "      <td>0.554790</td>\n",
       "      <td>0.615770</td>\n",
       "      <td>0.108670</td>\n",
       "      <td>1.514800</td>\n",
       "      <td>6.337600</td>\n",
       "      <td>...</td>\n",
       "      <td>2.320500</td>\n",
       "      <td>6.687300</td>\n",
       "      <td>0.604310</td>\n",
       "      <td>0.316170</td>\n",
       "      <td>0.334130</td>\n",
       "      <td>0.156020</td>\n",
       "      <td>6.031600</td>\n",
       "      <td>66.292000</td>\n",
       "      <td>0.359070</td>\n",
       "      <td>0.317360</td>\n",
       "    </tr>\n",
       "  </tbody>\n",
       "</table>\n",
       "<p>8 rows × 186 columns</p>\n",
       "</div>"
      ],
      "text/plain": [
       "              0           1           2           3           4           5    \\\n",
       "count  178.000000  178.000000  178.000000  178.000000  178.000000  178.000000   \n",
       "mean     0.600470    0.201485   -0.344933   -0.286808    0.632020    0.287540   \n",
       "std      0.073394    0.031226    0.584300    1.051375    0.100155    0.091728   \n",
       "min      0.376770    0.102720   -1.299800   -1.557600    0.338550    0.088063   \n",
       "25%      0.555767    0.189550   -0.758522   -0.961957    0.584640    0.219670   \n",
       "50%      0.611900    0.204290   -0.479840   -0.466060    0.657045    0.275930   \n",
       "75%      0.652925    0.219668   -0.057454   -0.056106    0.705235    0.353475   \n",
       "max      0.725140    0.277860    1.878300    5.181600    0.801370    0.554790   \n",
       "\n",
       "              6           7           8           9    ...         176  \\\n",
       "count  178.000000  178.000000  178.000000  178.000000  ...  178.000000   \n",
       "mean     0.552424    0.082189   -0.824703    0.236309  ...    0.472684   \n",
       "std      0.036221    0.014602    0.660501    1.375195  ...    0.609301   \n",
       "min      0.424760    0.029278   -2.185700   -1.617800  ...   -1.979500   \n",
       "25%      0.537710    0.075842   -1.261125   -0.724020  ...    0.134622   \n",
       "50%      0.561140    0.084887   -0.907755   -0.136530  ...    0.538395   \n",
       "75%      0.576998    0.090970   -0.515713    0.879875  ...    0.816458   \n",
       "max      0.615770    0.108670    1.514800    6.337600  ...    2.320500   \n",
       "\n",
       "              177         178         179         180         181         182  \\\n",
       "count  178.000000  178.000000  178.000000  178.000000  178.000000  178.000000   \n",
       "mean     1.045795    0.333589    0.129445    0.226955    0.102015    1.492289   \n",
       "std      1.238343    0.066511    0.043993    0.037857    0.029705    1.080864   \n",
       "min     -1.331900    0.171240    0.059657    0.149200    0.015450   -0.298160   \n",
       "25%      0.280898    0.297960    0.099101    0.206740    0.090722    0.840605   \n",
       "50%      0.805355    0.328025    0.119270    0.223460    0.107370    1.384650   \n",
       "75%      1.562375    0.368625    0.150257    0.249032    0.121952    1.750450   \n",
       "max      6.687300    0.604310    0.316170    0.334130    0.156020    6.031600   \n",
       "\n",
       "              183         184         185  \n",
       "count  178.000000  178.000000  178.000000  \n",
       "mean     3.210325    0.185576    0.133609  \n",
       "std      8.949080    0.042548    0.080806  \n",
       "min     -1.734000    0.140280    0.000000  \n",
       "25%     -0.801597    0.163120    0.065188  \n",
       "50%      0.597150    0.174630    0.110250  \n",
       "75%      2.135200    0.185935    0.203223  \n",
       "max     66.292000    0.359070    0.317360  \n",
       "\n",
       "[8 rows x 186 columns]"
      ]
     },
     "execution_count": 6,
     "metadata": {},
     "output_type": "execute_result"
    }
   ],
   "source": [
    "data.describe()"
   ]
  },
  {
   "cell_type": "code",
   "execution_count": 7,
   "metadata": {
    "scrolled": true
   },
   "outputs": [
    {
     "data": {
      "text/html": [
       "<div>\n",
       "<style scoped>\n",
       "    .dataframe tbody tr th:only-of-type {\n",
       "        vertical-align: middle;\n",
       "    }\n",
       "\n",
       "    .dataframe tbody tr th {\n",
       "        vertical-align: top;\n",
       "    }\n",
       "\n",
       "    .dataframe thead th {\n",
       "        text-align: right;\n",
       "    }\n",
       "</style>\n",
       "<table border=\"1\" class=\"dataframe\">\n",
       "  <thead>\n",
       "    <tr style=\"text-align: right;\">\n",
       "      <th></th>\n",
       "      <th>0</th>\n",
       "      <th>1</th>\n",
       "      <th>2</th>\n",
       "      <th>3</th>\n",
       "      <th>4</th>\n",
       "      <th>5</th>\n",
       "      <th>6</th>\n",
       "      <th>7</th>\n",
       "      <th>8</th>\n",
       "      <th>9</th>\n",
       "      <th>...</th>\n",
       "      <th>118</th>\n",
       "      <th>119</th>\n",
       "      <th>120</th>\n",
       "      <th>121</th>\n",
       "      <th>122</th>\n",
       "      <th>123</th>\n",
       "      <th>124</th>\n",
       "      <th>125</th>\n",
       "      <th>126</th>\n",
       "      <th>127</th>\n",
       "    </tr>\n",
       "  </thead>\n",
       "  <tbody>\n",
       "    <tr>\n",
       "      <th>0</th>\n",
       "      <td>0</td>\n",
       "      <td>0</td>\n",
       "      <td>0</td>\n",
       "      <td>0</td>\n",
       "      <td>0</td>\n",
       "      <td>0</td>\n",
       "      <td>0</td>\n",
       "      <td>0</td>\n",
       "      <td>1</td>\n",
       "      <td>0</td>\n",
       "      <td>...</td>\n",
       "      <td>0</td>\n",
       "      <td>0</td>\n",
       "      <td>0</td>\n",
       "      <td>0</td>\n",
       "      <td>0</td>\n",
       "      <td>0</td>\n",
       "      <td>0</td>\n",
       "      <td>0</td>\n",
       "      <td>1</td>\n",
       "      <td>1</td>\n",
       "    </tr>\n",
       "  </tbody>\n",
       "</table>\n",
       "<p>1 rows × 128 columns</p>\n",
       "</div>"
      ],
      "text/plain": [
       "   0    1    2    3    4    5    6    7    8    9    ...  118  119  120  121  \\\n",
       "0    0    0    0    0    0    0    0    0    1    0  ...    0    0    0    0   \n",
       "\n",
       "   122  123  124  125  126  127  \n",
       "0    0    0    0    0    1    1  \n",
       "\n",
       "[1 rows x 128 columns]"
      ]
     },
     "execution_count": 7,
     "metadata": {},
     "output_type": "execute_result"
    }
   ],
   "source": [
    "# labels\n",
    "labels.T  # transpose"
   ]
  },
  {
   "cell_type": "code",
   "execution_count": 8,
   "metadata": {
    "scrolled": true
   },
   "outputs": [
    {
     "data": {
      "text/plain": [
       "(128, 1)"
      ]
     },
     "execution_count": 8,
     "metadata": {},
     "output_type": "execute_result"
    }
   ],
   "source": [
    "labels.shape"
   ]
  },
  {
   "cell_type": "code",
   "execution_count": 9,
   "metadata": {
    "scrolled": true
   },
   "outputs": [
    {
     "data": {
      "text/plain": [
       "0    False\n",
       "dtype: bool"
      ]
     },
     "execution_count": 9,
     "metadata": {},
     "output_type": "execute_result"
    }
   ],
   "source": [
    "labels.isna().any()"
   ]
  },
  {
   "cell_type": "code",
   "execution_count": 10,
   "metadata": {
    "scrolled": true
   },
   "outputs": [
    {
     "data": {
      "text/plain": [
       "0    111\n",
       "dtype: int64"
      ]
     },
     "execution_count": 10,
     "metadata": {},
     "output_type": "execute_result"
    }
   ],
   "source": [
    "# total of zeros\n",
    "labels.isin([0]).sum()"
   ]
  },
  {
   "cell_type": "code",
   "execution_count": 11,
   "metadata": {},
   "outputs": [
    {
     "data": {
      "text/plain": [
       "0    17\n",
       "dtype: int64"
      ]
     },
     "execution_count": 11,
     "metadata": {},
     "output_type": "execute_result"
    }
   ],
   "source": [
    "# total of ones (positive cases for leukemia)\n",
    "labels.isin([1]).sum()"
   ]
  },
  {
   "cell_type": "code",
   "execution_count": 12,
   "metadata": {},
   "outputs": [
    {
     "data": {
      "text/plain": [
       "0    15.32\n",
       "dtype: float64"
      ]
     },
     "execution_count": 12,
     "metadata": {},
     "output_type": "execute_result"
    }
   ],
   "source": [
    "# percentage of positive\n",
    "round((labels.isin([1]).sum()/labels.isin([0]).sum())*100, 2)"
   ]
  },
  {
   "cell_type": "markdown",
   "metadata": {},
   "source": [
    "**NOTE: Apparently the data has already been cleared. There are no NAN fields in the sample.**"
   ]
  },
  {
   "cell_type": "markdown",
   "metadata": {},
   "source": [
    "## 3.3 Split data in train/test/predict"
   ]
  },
  {
   "cell_type": "code",
   "execution_count": 13,
   "metadata": {},
   "outputs": [],
   "source": [
    "train = data.iloc[0:128, :]\n",
    "predictData = data.iloc[128:, :]\n",
    "\n",
    "y = labels\n",
    "X = train"
   ]
  },
  {
   "cell_type": "code",
   "execution_count": 14,
   "metadata": {},
   "outputs": [
    {
     "data": {
      "text/plain": [
       "((64, 186), (64, 186), (64, 1), (64, 1), (128, 1))"
      ]
     },
     "execution_count": 14,
     "metadata": {},
     "output_type": "execute_result"
    }
   ],
   "source": [
    "from sklearn.model_selection import train_test_split\n",
    "Xtrain, Xval, ytrain, yval = train_test_split(\n",
    "    X, y, train_size=0.5, random_state=0)  # obs: few positives\n",
    "Xtrain.shape, Xval.shape, ytrain.shape, yval.shape, y.shape"
   ]
  },
  {
   "cell_type": "markdown",
   "metadata": {},
   "source": [
    "**NOTE: Is 17 positive in only 128 patients enough? Approach chosen: Feature selection.**"
   ]
  },
  {
   "cell_type": "markdown",
   "metadata": {},
   "source": [
    "# 4. Algorithms\n",
    "**Note: There are 186 features, the ideal is to select only the most relevant ones. Maybe 10 ~ 20 (or less).**"
   ]
  },
  {
   "cell_type": "code",
   "execution_count": 15,
   "metadata": {},
   "outputs": [],
   "source": [
    "from sklearn.feature_selection import SelectKBest, f_classif\n",
    "from sklearn.metrics import mean_absolute_error, accuracy_score\n",
    "from sklearn.ensemble import RandomForestClassifier\n",
    "from sklearn.tree import DecisionTreeClassifier, plot_tree"
   ]
  },
  {
   "cell_type": "markdown",
   "metadata": {},
   "source": [
    "## 4.1 Feature selection"
   ]
  },
  {
   "cell_type": "code",
   "execution_count": 16,
   "metadata": {},
   "outputs": [],
   "source": [
    "k_vs_score = []\n",
    "\n",
    "for k in range(2, 186, 2):\n",
    "    selector = SelectKBest(score_func=f_classif, k=k)\n",
    "\n",
    "    Xtrain2 = selector.fit_transform(Xtrain, ytrain)\n",
    "    Xval2 = selector.transform(Xval)\n",
    "\n",
    "    clf = RandomForestClassifier(max_depth=2, random_state=0)\n",
    "    clf.fit(Xtrain2, ytrain)\n",
    "\n",
    "    p = clf.predict(Xval2)\n",
    "\n",
    "    score = mean_absolute_error(yval, p)\n",
    "    k_vs_score.append(score)\n",
    "\n",
    "    # This code may take a long time to run (~1 min)"
   ]
  },
  {
   "cell_type": "code",
   "execution_count": 17,
   "metadata": {},
   "outputs": [
    {
     "data": {
      "text/plain": [
       "<matplotlib.axes._subplots.AxesSubplot at 0x7f98e5ff20a0>"
      ]
     },
     "execution_count": 17,
     "metadata": {},
     "output_type": "execute_result"
    },
    {
     "data": {
      "image/png": "[encoded data removed]",
      "text/plain": [
       "<Figure size 720x504 with 1 Axes>"
      ]
     },
     "metadata": {
      "needs_background": "light"
     },
     "output_type": "display_data"
    }
   ],
   "source": [
    "pd.Series(k_vs_score, index=range(2, 186, 2)).plot(figsize=(10, 7))"
   ]
  },
  {
   "cell_type": "code",
   "execution_count": 18,
   "metadata": {},
   "outputs": [
    {
     "data": {
      "text/plain": [
       "SelectKBest(k=15, score_func=<function f_classif at 0x7f98e95cb700>)"
      ]
     },
     "execution_count": 18,
     "metadata": {},
     "output_type": "execute_result"
    }
   ],
   "source": [
    "# zero error (classification problem...)? Why? REVIEW THIS PART!\n",
    "selector = SelectKBest(score_func=f_classif, k=15)\n",
    "selector.fit(Xtrain, ytrain)"
   ]
  },
  {
   "cell_type": "code",
   "execution_count": 19,
   "metadata": {},
   "outputs": [
    {
     "data": {
      "text/plain": [
       "Int64Index([1, 6, 7, 8, 10, 36, 38, 53, 120, 121, 122, 125, 132, 133, 167], dtype='int64')"
      ]
     },
     "execution_count": 19,
     "metadata": {},
     "output_type": "execute_result"
    }
   ],
   "source": [
    "mask = selector.get_support()\n",
    "Xval.columns[mask]"
   ]
  },
  {
   "cell_type": "code",
   "execution_count": 20,
   "metadata": {},
   "outputs": [
    {
     "data": {
      "text/plain": [
       "<matplotlib.axes._subplots.AxesSubplot at 0x7f98e60220d0>"
      ]
     },
     "execution_count": 20,
     "metadata": {},
     "output_type": "execute_result"
    },
    {
     "data": {
      "image/png": "[encoded data removed]",
      "text/plain": [
       "<Figure size 432x288 with 1 Axes>"
      ]
     },
     "metadata": {
      "needs_background": "light"
     },
     "output_type": "display_data"
    }
   ],
   "source": [
    "pd.Series(selector.scores_, index=Xtrain.columns).sort_values().tail().plot.barh()"
   ]
  },
  {
   "cell_type": "markdown",
   "metadata": {},
   "source": [
    "## 4.2 Select data to train and predict"
   ]
  },
  {
   "cell_type": "code",
   "execution_count": 21,
   "metadata": {},
   "outputs": [],
   "source": [
    "k = 15\n",
    "selector = SelectKBest(score_func=f_classif, k=k)\n",
    "\n",
    "Xtrain2 = selector.fit_transform(Xtrain, ytrain)\n",
    "Xval2 = selector.transform(Xval)\n",
    "predictData2 = selector.transform(predictData)"
   ]
  },
  {
   "cell_type": "markdown",
   "metadata": {},
   "source": [
    "## 4.3 Decision Tree"
   ]
  },
  {
   "cell_type": "markdown",
   "metadata": {},
   "source": [
    "### 4.3.1 Model"
   ]
  },
  {
   "cell_type": "code",
   "execution_count": 22,
   "metadata": {
    "scrolled": true
   },
   "outputs": [
    {
     "data": {
      "text/plain": [
       "array([0, 0, 0, 0, 0, 0, 0, 0, 1, 0, 0, 0, 0, 0, 1, 0, 0, 0, 0, 1, 0, 0,\n",
       "       0, 0, 0, 0, 1, 0, 0, 0, 0, 1, 0, 0, 0, 0, 1, 0, 0, 0, 0, 0, 0, 0,\n",
       "       0, 0, 0, 0, 0, 0])"
      ]
     },
     "execution_count": 22,
     "metadata": {},
     "output_type": "execute_result"
    }
   ],
   "source": [
    "decisionTree = DecisionTreeClassifier(max_depth=3, random_state=0)\n",
    "decisionTree.fit(Xtrain2,ytrain)\n",
    "\n",
    "predictTree = decisionTree.predict(predictData2)\n",
    "predictTree"
   ]
  },
  {
   "cell_type": "markdown",
   "metadata": {},
   "source": [
    "### 4.3.2 Test"
   ]
  },
  {
   "cell_type": "code",
   "execution_count": 23,
   "metadata": {},
   "outputs": [
    {
     "data": {
      "text/plain": [
       "(0.0625, 0.9375)"
      ]
     },
     "execution_count": 23,
     "metadata": {},
     "output_type": "execute_result"
    }
   ],
   "source": [
    "pTreeTest = decisionTree.predict(Xval2)\n",
    "meanAbsTree = mean_absolute_error(yval, pTreeTest)\n",
    "accuracyTree = accuracy_score(yval, pTreeTest)\n",
    "meanAbsTree, accuracyTree"
   ]
  },
  {
   "cell_type": "markdown",
   "metadata": {},
   "source": [
    "### 4.3.3 Save results"
   ]
  },
  {
   "cell_type": "code",
   "execution_count": 24,
   "metadata": {},
   "outputs": [],
   "source": [
    "Tree_50split = pd.DataFrame(data=predictTree)\n",
    "# add column ID from predict Data\n",
    "Tree_50split['ID'] = predictData.index.values\n",
    "# set column ID as index\n",
    "Tree_50split.set_index('ID', inplace=True)\n",
    "# save result as csv\n",
    "saveData(Tree_50split, 'results', 'Tree_50split')"
   ]
  },
  {
   "cell_type": "markdown",
   "metadata": {},
   "source": [
    "### 4.3.4 Decision Tree View"
   ]
  },
  {
   "cell_type": "code",
   "execution_count": 25,
   "metadata": {},
   "outputs": [
    {
     "data": {
      "text/plain": [
       "[Text(418.5, 362.4, 'node #0\\n8 <= 0.263\\ngini = 0.219\\nsamples = 100.0%\\nvalue = [0.875, 0.125]\\nclass = Negative'),\n",
       " Text(209.25, 217.44, 'node #1\\n14 <= 0.019\\ngini = 0.245\\nsamples = 10.9%\\nvalue = [0.143, 0.857]\\nclass = Positive'),\n",
       " Text(104.625, 72.47999999999996, 'node #2\\ngini = 0.0\\nsamples = 1.6%\\nvalue = [1.0, 0.0]\\nclass = Negative'),\n",
       " Text(313.875, 72.47999999999996, 'node #3\\ngini = 0.0\\nsamples = 9.4%\\nvalue = [0.0, 1.0]\\nclass = Positive'),\n",
       " Text(627.75, 217.44, 'node #4\\n14 <= 0.139\\ngini = 0.068\\nsamples = 89.1%\\nvalue = [0.965, 0.035]\\nclass = Negative'),\n",
       " Text(523.125, 72.47999999999996, 'node #5\\ngini = 0.0\\nsamples = 85.9%\\nvalue = [1.0, 0.0]\\nclass = Negative'),\n",
       " Text(732.375, 72.47999999999996, 'node #6\\ngini = 0.0\\nsamples = 3.1%\\nvalue = [0.0, 1.0]\\nclass = Positive')]"
      ]
     },
     "execution_count": 25,
     "metadata": {},
     "output_type": "execute_result"
    },
    {
     "data": {
      "image/png": "[encoded data removed]",
      "text/plain": [
       "<Figure size 1080x576 with 1 Axes>"
      ]
     },
     "metadata": {
      "needs_background": "light"
     },
     "output_type": "display_data"
    }
   ],
   "source": [
    "plt.figure(figsize=(15,8))\n",
    "plot_tree(decisionTree,\n",
    "          max_depth = 3,\n",
    "          impurity = True,\n",
    "          feature_names = list(Xtrain),\n",
    "          class_names = ['Negative', 'Positive'],\n",
    "          node_ids = True,\n",
    "          proportion = True,\n",
    "          rounded = True,\n",
    "          filled=True)  #feature_names=y_pred, class_names=x_test,"
   ]
  },
  {
   "cell_type": "markdown",
   "metadata": {},
   "source": [
    "## 4.4 Random Forest"
   ]
  },
  {
   "cell_type": "markdown",
   "metadata": {},
   "source": [
    "### 4.4.1 Model"
   ]
  },
  {
   "cell_type": "code",
   "execution_count": 26,
   "metadata": {
    "scrolled": true
   },
   "outputs": [
    {
     "data": {
      "text/plain": [
       "array([0, 0, 0, 0, 0, 0, 0, 0, 1, 0, 0, 0, 0, 0, 0, 0, 0, 0, 0, 1, 0, 0,\n",
       "       0, 0, 0, 0, 1, 0, 0, 0, 0, 1, 0, 0, 0, 0, 1, 0, 0, 0, 0, 0, 0, 0,\n",
       "       0, 0, 0, 0, 0, 0])"
      ]
     },
     "execution_count": 26,
     "metadata": {},
     "output_type": "execute_result"
    }
   ],
   "source": [
    "RForest = RandomForestClassifier(max_depth=2, random_state=0)\n",
    "RForest.fit(Xtrain2, ytrain)\n",
    "\n",
    "predictRF = RForest.predict(predictData2)\n",
    "predictRF"
   ]
  },
  {
   "cell_type": "markdown",
   "metadata": {},
   "source": [
    "### 4.4.2 Test"
   ]
  },
  {
   "cell_type": "code",
   "execution_count": 27,
   "metadata": {},
   "outputs": [
    {
     "data": {
      "text/plain": [
       "(0.03125, 0.96875)"
      ]
     },
     "execution_count": 27,
     "metadata": {},
     "output_type": "execute_result"
    }
   ],
   "source": [
    "pRFTest = RForest.predict(Xval2)\n",
    "meanAbsRF = mean_absolute_error(yval, pRFTest)\n",
    "accuracyRF = accuracy_score(yval, pRFTest)\n",
    "meanAbsRF, accuracyRF"
   ]
  },
  {
   "cell_type": "markdown",
   "metadata": {},
   "source": [
    "### 4.4.3 Save results"
   ]
  },
  {
   "cell_type": "code",
   "execution_count": 28,
   "metadata": {},
   "outputs": [],
   "source": [
    "RF_50split = pd.DataFrame(data=predictRF)\n",
    "# add column ID from predict Data\n",
    "RF_50split['ID'] = predictData.index.values\n",
    "# set column ID as index\n",
    "RF_50split.set_index('ID', inplace=True)\n",
    "# save result as csv\n",
    "saveData(RF_50split, 'results', 'RF_50split')"
   ]
  },
  {
   "cell_type": "markdown",
   "metadata": {},
   "source": [
    "# 5. Improvements\n",
    "\n",
    "Nothing at the moment =)"
   ]
  },
  {
   "cell_type": "markdown",
   "metadata": {},
   "source": [
    "# 6. Results"
   ]
  },
  {
   "cell_type": "markdown",
   "metadata": {},
   "source": [
    "Nothing at the moment =) \n",
    "\n",
    "Maybe RF?"
   ]
  },
  {
   "cell_type": "markdown",
   "metadata": {},
   "source": [
    "## Please do not run any metrics on these results, this is just a first draft. I'm still thinking about the best approach."
   ]
  },
  {
   "cell_type": "markdown",
   "metadata": {},
   "source": [
    "# Citation\n",
    "Tamagusko, T. (2020). Initiation Project JEST 2020/1. Part 2. Retrieved from https://github.com/tamagusko/jest20201  \n",
    "## References <a id=\"ref\"></a>\n",
    "[1] Dataset to support the study. (2020, May 31). Retrieved from https://github.com/spingegod/ProjetoTI_part2"
   ]
  }
 ],
 "metadata": {
  "kernelspec": {
   "display_name": "Python 3",
   "language": "python",
   "name": "python3"
  },
  "language_info": {
   "codemirror_mode": {
    "name": "ipython",
    "version": 3
   },
   "file_extension": ".py",
   "mimetype": "text/x-python",
   "name": "python",
   "nbconvert_exporter": "python",
   "pygments_lexer": "ipython3",
   "version": "3.8.2"
  },
  "toc": {
   "base_numbering": 1,
   "nav_menu": {},
   "number_sections": true,
   "sideBar": true,
   "skip_h1_title": false,
   "title_cell": "Table of Contents",
   "title_sidebar": "Contents",
   "toc_cell": false,
   "toc_position": {},
   "toc_section_display": true,
   "toc_window_display": false
  }
 },
 "nbformat": 4,
 "nbformat_minor": 4
}
